{
  "nbformat": 4,
  "nbformat_minor": 0,
  "metadata": {
    "colab": {
      "name": "Pandas Series Fundamentals - Skeleton.ipynb",
      "provenance": [],
      "collapsed_sections": [],
      "include_colab_link": true
    },
    "kernelspec": {
      "name": "python3",
      "display_name": "Python 3"
    }
  },
  "cells": [
    {
      "cell_type": "markdown",
      "metadata": {
        "id": "view-in-github",
        "colab_type": "text"
      },
      "source": [
        "<a href=\"https://colab.research.google.com/github/pcmurphy51/AnatomyOfMatplotlib/blob/master/Pandas_Series_Fundamentals_Skeleton.ipynb\" target=\"_parent\"><img src=\"https://colab.research.google.com/assets/colab-badge.svg\" alt=\"Open In Colab\"/></a>"
      ]
    },
    {
      "cell_type": "markdown",
      "metadata": {
        "id": "1ivPDcc7p8lD"
      },
      "source": [
        "# 1. DEFINE A PANDAS SERIES (WITH NUMERIC DEFAULT INDEX)"
      ]
    },
    {
      "cell_type": "code",
      "metadata": {
        "id": "4YdCraz8p_XF"
      },
      "source": [
        "# Pandas is a data manipulation and analysis tool that is built on Numpy.\n",
        "# Pandas uses a data structure known as DataFrame (think of it as Microsoft excel in Python). \n",
        "# DataFrames empower programmers to store and manipulate data in a tabular fashion (rows and columns).\n",
        "# Series Vs. DataFrame? Series is considered a single column of a DataFrame."
      ],
      "execution_count": null,
      "outputs": []
    },
    {
      "cell_type": "code",
      "metadata": {
        "id": "6H2808pkqKIR"
      },
      "source": [
        "%config IPCompleter.greedy=True\n",
        "import pandas as pd"
      ],
      "execution_count": 1,
      "outputs": []
    },
    {
      "cell_type": "code",
      "metadata": {
        "id": "SA9m0RD3K2TF"
      },
      "source": [
        "# Let's define a Python list that contains 5 stocks: Nvidia, Microsoft, FaceBook, Amazon, and Boeing\n",
        "my_list =['NVDA','MSFT', 'FB', 'AMZN', 'BA']"
      ],
      "execution_count": 2,
      "outputs": []
    },
    {
      "cell_type": "code",
      "metadata": {
        "colab": {
          "base_uri": "https://localhost:8080/"
        },
        "id": "G-fooAckNafC",
        "outputId": "7983448e-c0a9-4afd-b6a6-b13345cb6780"
      },
      "source": [
        "# Let's confirm the Datatype\n",
        "type(my_list)"
      ],
      "execution_count": 3,
      "outputs": [
        {
          "output_type": "execute_result",
          "data": {
            "text/plain": [
              "list"
            ]
          },
          "metadata": {},
          "execution_count": 3
        }
      ]
    },
    {
      "cell_type": "code",
      "metadata": {
        "colab": {
          "base_uri": "https://localhost:8080/"
        },
        "id": "hle4zw51K6-P",
        "outputId": "c1d3d9eb-019f-426a-fa46-9e5ea225b025"
      },
      "source": [
        "# Let's create a one dimensional Pandas \"series\" \n",
        "# Let's use Pandas Constructor Method to create a series from a Python list\n",
        "# Note that series is formed of data and associated index (numeric index has been automatically generated) \n",
        "# Check Pandas Documentation for More information: https://pandas.pydata.org/pandas-docs/stable/reference/api/pandas.Series.html#pandas.Series\n",
        "# Object datatype is used for text data (String)\n",
        "series_1 = pd.Series(data= my_list)\n",
        "series_1"
      ],
      "execution_count": 4,
      "outputs": [
        {
          "output_type": "execute_result",
          "data": {
            "text/plain": [
              "0    NVDA\n",
              "1    MSFT\n",
              "2      FB\n",
              "3    AMZN\n",
              "4      BA\n",
              "dtype: object"
            ]
          },
          "metadata": {},
          "execution_count": 4
        }
      ]
    },
    {
      "cell_type": "code",
      "metadata": {
        "colab": {
          "base_uri": "https://localhost:8080/"
        },
        "id": "-HNCtPcoNUyf",
        "outputId": "4cf71f16-8f44-4124-fe1f-aa756fce8669"
      },
      "source": [
        "# Let's confirm the Pandas Series Datatype\n",
        "type(series_1)"
      ],
      "execution_count": 5,
      "outputs": [
        {
          "output_type": "execute_result",
          "data": {
            "text/plain": [
              "pandas.core.series.Series"
            ]
          },
          "metadata": {},
          "execution_count": 5
        }
      ]
    },
    {
      "cell_type": "code",
      "metadata": {
        "colab": {
          "base_uri": "https://localhost:8080/"
        },
        "id": "LB2J-qw5LdQI",
        "outputId": "ad91a247-be44-46ee-ee13-fd3fbfea7811"
      },
      "source": [
        "# Let's define another Pandas Series that contains numeric values (stock prices) instead of text data\n",
        "# Note that we have int64 datatype which means it's integer stored in 64 bits in memory\n",
        "series_2 = pd.Series(data=[100, 200, 500, 1000, 5000])\n",
        "series_2"
      ],
      "execution_count": 6,
      "outputs": [
        {
          "output_type": "execute_result",
          "data": {
            "text/plain": [
              "0     100\n",
              "1     200\n",
              "2     500\n",
              "3    1000\n",
              "4    5000\n",
              "dtype: int64"
            ]
          },
          "metadata": {},
          "execution_count": 6
        }
      ]
    },
    {
      "cell_type": "markdown",
      "metadata": {
        "id": "8C0UN46KIntM"
      },
      "source": [
        "**MINI CHALLENGE #1:**\n",
        "- **Define a Pandas Series named \"my_series\" that contains your top 3 favourite movies. Confirm the datatype of \"my_series\"**"
      ]
    },
    {
      "cell_type": "code",
      "metadata": {
        "id": "l2aMAKvpJyWH",
        "outputId": "7954794a-ace4-467e-8489-47fab752862e",
        "colab": {
          "base_uri": "https://localhost:8080/"
        }
      },
      "source": [
        "my_series = pd.Series(data=['Bridge Over River Kai', 'Earthquate','Towering Inferno'])\n",
        "my_series"
      ],
      "execution_count": 7,
      "outputs": [
        {
          "output_type": "execute_result",
          "data": {
            "text/plain": [
              "0    Bridge Over River Kai\n",
              "1               Earthquate\n",
              "2         Towering Inferno\n",
              "dtype: object"
            ]
          },
          "metadata": {},
          "execution_count": 7
        }
      ]
    },
    {
      "cell_type": "markdown",
      "metadata": {
        "id": "XN92TgiQOD7I"
      },
      "source": [
        "# 2. DEFINE A PANDAS SERIES WITH CUSTOM INDEX"
      ]
    },
    {
      "cell_type": "code",
      "metadata": {
        "colab": {
          "base_uri": "https://localhost:8080/"
        },
        "id": "K4Y9jVx1OaN4",
        "outputId": "71991547-f482-4758-c5b6-7caca82b49b8"
      },
      "source": [
        "# Let's define a Python list that contains 5 stocks: Nvidia, Microsoft, FaceBook, Amazon, and Boeing\n",
        "my_list = ['NVDA', 'MSFT', 'FB', 'AMZN', 'BA']\n",
        "my_list"
      ],
      "execution_count": 8,
      "outputs": [
        {
          "output_type": "execute_result",
          "data": {
            "text/plain": [
              "['NVDA', 'MSFT', 'FB', 'AMZN', 'BA']"
            ]
          },
          "metadata": {},
          "execution_count": 8
        }
      ]
    },
    {
      "cell_type": "code",
      "metadata": {
        "colab": {
          "base_uri": "https://localhost:8080/"
        },
        "id": "ZSxdgs_xJvxx",
        "outputId": "8bbf7940-45a5-465d-8677-a8b3ba583078"
      },
      "source": [
        "# Let's define a python list as shown below. This python list will be used for the Series index:\n",
        "my_labels = ['stock#1', 'stock#2', 'stock#3', 'stock#4', 'stock#5']\n",
        "my_labels"
      ],
      "execution_count": 9,
      "outputs": [
        {
          "output_type": "execute_result",
          "data": {
            "text/plain": [
              "['stock#1', 'stock#2', 'stock#3', 'stock#4', 'stock#5']"
            ]
          },
          "metadata": {},
          "execution_count": 9
        }
      ]
    },
    {
      "cell_type": "code",
      "metadata": {
        "id": "U4Fq06XwqX9v"
      },
      "source": [
        "# Let's create a one dimensional Pandas \"series\" \n",
        "# Let's use Pandas Constructor Method to create a series from a Python list\n",
        "# Note that this series is formed of data and associated labels \n",
        "series_3 = pd.Series(data= my_list, index=my_labels)"
      ],
      "execution_count": 10,
      "outputs": []
    },
    {
      "cell_type": "code",
      "metadata": {
        "id": "YhPzprisqX_8",
        "colab": {
          "base_uri": "https://localhost:8080/"
        },
        "outputId": "808c76ef-6ace-424f-b036-a73ad2773aff"
      },
      "source": [
        "# Let's view the series\n",
        "series_3"
      ],
      "execution_count": 11,
      "outputs": [
        {
          "output_type": "execute_result",
          "data": {
            "text/plain": [
              "stock#1    NVDA\n",
              "stock#2    MSFT\n",
              "stock#3      FB\n",
              "stock#4    AMZN\n",
              "stock#5      BA\n",
              "dtype: object"
            ]
          },
          "metadata": {},
          "execution_count": 11
        }
      ]
    },
    {
      "cell_type": "code",
      "metadata": {
        "id": "4LPwMO8fsvi1",
        "colab": {
          "base_uri": "https://localhost:8080/"
        },
        "outputId": "222ff560-3ae6-4b46-bd8a-0dc65bc4e51a"
      },
      "source": [
        "# Let's obtain the datatype\n",
        "type(series_3)"
      ],
      "execution_count": 12,
      "outputs": [
        {
          "output_type": "execute_result",
          "data": {
            "text/plain": [
              "pandas.core.series.Series"
            ]
          },
          "metadata": {},
          "execution_count": 12
        }
      ]
    },
    {
      "cell_type": "markdown",
      "metadata": {
        "id": "13icipAKL4W5"
      },
      "source": [
        "**MINI CHALLENGE #2:**\n",
        "- **Define a Pandas Series named \"my_series\" that contains your top 3 favourite movies. Instead of using default numeric indexes (similar to mini challenge #1), use the following indexes \"movie #1\", \"Movie #2\", and \"movie #3\"**"
      ]
    },
    {
      "cell_type": "code",
      "metadata": {
        "id": "NZBRmbbuL8OC"
      },
      "source": [
        "my_movies = ['Bridge Over River Kai','Earthquake','Towering Inferno']\n",
        "my_labels = ['movie1','movie2', 'movie3']"
      ],
      "execution_count": 15,
      "outputs": []
    },
    {
      "cell_type": "code",
      "source": [
        "my_series = pd.Series(data=my_movies, index=my_labels)\n",
        "my_series"
      ],
      "metadata": {
        "id": "JdHHoVhLEWzh",
        "outputId": "d3ba76fc-947c-47c3-eaac-fa5b8b2186e0",
        "colab": {
          "base_uri": "https://localhost:8080/"
        }
      },
      "execution_count": 16,
      "outputs": [
        {
          "output_type": "execute_result",
          "data": {
            "text/plain": [
              "movie1    Bridge Over River Kai\n",
              "movie2               Earthquake\n",
              "movie3         Towering Inferno\n",
              "dtype: object"
            ]
          },
          "metadata": {},
          "execution_count": 16
        }
      ]
    },
    {
      "cell_type": "markdown",
      "metadata": {
        "id": "96EH6h9SQYW1"
      },
      "source": [
        "# 3. DEFINE A PANDAS SERIES FROM A DICTIONARY"
      ]
    },
    {
      "cell_type": "code",
      "metadata": {
        "id": "fk9R_fZlML_y"
      },
      "source": [
        "# A Dictionary consists of a collection of key-value pairs. Each key-value pair maps the key to its corresponding value.\n",
        "# Keys are unique within a dictionary while values may not be. \n",
        "# List elements are accessed by their position in the list, via indexing while Dictionary elements are accessed via keys\n",
        "# Define a dictionary named \"my_dict\" using key-value pairs\n",
        "my_dict = {'Bank Client ID': 111, \n",
        "          'Bank Client Name': 'Steve',\n",
        "          'Net Worth [$]': 3500,\n",
        "          'Years with Bank': 9}"
      ],
      "execution_count": 17,
      "outputs": []
    },
    {
      "cell_type": "code",
      "metadata": {
        "id": "BlHhf-YPQdrB",
        "colab": {
          "base_uri": "https://localhost:8080/"
        },
        "outputId": "3fd65462-cc9f-44f1-9687-c78b1acf4bc2"
      },
      "source": [
        "# Show the dictionary\n",
        "my_dict"
      ],
      "execution_count": 18,
      "outputs": [
        {
          "output_type": "execute_result",
          "data": {
            "text/plain": [
              "{'Bank Client ID': 111,\n",
              " 'Bank Client Name': 'Steve',\n",
              " 'Net Worth [$]': 3500,\n",
              " 'Years with Bank': 9}"
            ]
          },
          "metadata": {},
          "execution_count": 18
        }
      ]
    },
    {
      "cell_type": "code",
      "metadata": {
        "colab": {
          "base_uri": "https://localhost:8080/"
        },
        "id": "0b4KQo3JMcI0",
        "outputId": "4b1de6fe-4349-43f9-9c02-767ca622875f"
      },
      "source": [
        "# Confirm the dictionary datatype \n",
        "type(my_dict)"
      ],
      "execution_count": 19,
      "outputs": [
        {
          "output_type": "execute_result",
          "data": {
            "text/plain": [
              "dict"
            ]
          },
          "metadata": {},
          "execution_count": 19
        }
      ]
    },
    {
      "cell_type": "code",
      "metadata": {
        "colab": {
          "base_uri": "https://localhost:8080/"
        },
        "id": "LeH27Q4aQeXe",
        "outputId": "3e2a7340-0321-4607-8bf6-363a7cdad538"
      },
      "source": [
        "# Let's define a Pandas Series Using the dictionary\n",
        "series_4 = pd.Series(my_dict)\n",
        "series_4"
      ],
      "execution_count": 20,
      "outputs": [
        {
          "output_type": "execute_result",
          "data": {
            "text/plain": [
              "Bank Client ID        111\n",
              "Bank Client Name    Steve\n",
              "Net Worth [$]        3500\n",
              "Years with Bank         9\n",
              "dtype: object"
            ]
          },
          "metadata": {},
          "execution_count": 20
        }
      ]
    },
    {
      "cell_type": "markdown",
      "metadata": {
        "id": "_Tk4kxlLNI85"
      },
      "source": [
        "**MINI CHALLENGE #3:**\n",
        "- **Create a Pandas Series from a dictionary with 3 of your favourite stocks and their corresponding prices** "
      ]
    },
    {
      "cell_type": "code",
      "metadata": {
        "id": "nlG7J4oKNLuY"
      },
      "source": [
        "my_fav_stocks = {'MSFT': 3000,\n",
        "                'AMZN': 4000,\n",
        "                'BA': 5000}"
      ],
      "execution_count": 22,
      "outputs": []
    },
    {
      "cell_type": "code",
      "source": [
        "my_series = pd.Series(my_fav_stocks)\n",
        "my_series"
      ],
      "metadata": {
        "id": "0Fq7mg-5Ez1s",
        "outputId": "3d0f7de7-e26c-4e50-912b-727c6bdac772",
        "colab": {
          "base_uri": "https://localhost:8080/"
        }
      },
      "execution_count": 23,
      "outputs": [
        {
          "output_type": "execute_result",
          "data": {
            "text/plain": [
              "MSFT    3000\n",
              "AMZN    4000\n",
              "BA      5000\n",
              "dtype: int64"
            ]
          },
          "metadata": {},
          "execution_count": 23
        }
      ]
    },
    {
      "cell_type": "code",
      "source": [
        "my_series.index"
      ],
      "metadata": {
        "id": "5YDiHksmE3W5",
        "outputId": "081b816a-e1e5-4b88-88a5-e191f19b1359",
        "colab": {
          "base_uri": "https://localhost:8080/"
        }
      },
      "execution_count": 24,
      "outputs": [
        {
          "output_type": "execute_result",
          "data": {
            "text/plain": [
              "Index(['MSFT', 'AMZN', 'BA'], dtype='object')"
            ]
          },
          "metadata": {},
          "execution_count": 24
        }
      ]
    },
    {
      "cell_type": "code",
      "source": [
        "print(my_fav_stocks)"
      ],
      "metadata": {
        "id": "FJAoC-hgE6vm",
        "outputId": "54694dcd-bfb1-49d0-d060-a8435b39bbf0",
        "colab": {
          "base_uri": "https://localhost:8080/"
        }
      },
      "execution_count": 25,
      "outputs": [
        {
          "output_type": "stream",
          "name": "stdout",
          "text": [
            "{'MSFT': 3000, 'AMZN': 4000, 'BA': 5000}\n"
          ]
        }
      ]
    },
    {
      "cell_type": "markdown",
      "metadata": {
        "id": "VGlb7t7WRIR3"
      },
      "source": [
        "# 4. PANDAS ATTRIBUTES"
      ]
    },
    {
      "cell_type": "code",
      "metadata": {
        "id": "p4FauWQlRRD8",
        "colab": {
          "base_uri": "https://localhost:8080/"
        },
        "outputId": "15b43047-f9c3-445e-e7b4-023e5fa27209"
      },
      "source": [
        "# Attributes/Properties: do not use parantheses \"()\" and are used to get Pandas Series Properties. Ex: my_series.values, my_series.shape\n",
        "# Methods: use parantheses \"()\" and might include arguments and they actually alter/change the Pandas Series. Ex: my_series.tail(), my_series.head(), my_series.drop_duplicates()\n",
        "# Indexers: use square brackets \"[]\" and are used to access specific elements in a Pandas Series or DataFrame. Ex: my_series.loc[], my_series.iloc[]\n",
        "\n",
        "# Let's redefine a Pandas Series containing our favourite 5 stocks \n",
        "# Nvidia, Microsoft, FaceBook, Amazon, and Boeing\n",
        "my_list = ['NVDA', 'MSFT', 'FB', 'FB', 'BA']\n",
        "my_series = pd.Series(data=my_list)\n",
        "my_series"
      ],
      "execution_count": 26,
      "outputs": [
        {
          "output_type": "execute_result",
          "data": {
            "text/plain": [
              "0    NVDA\n",
              "1    MSFT\n",
              "2      FB\n",
              "3      FB\n",
              "4      BA\n",
              "dtype: object"
            ]
          },
          "metadata": {},
          "execution_count": 26
        }
      ]
    },
    {
      "cell_type": "code",
      "metadata": {
        "colab": {
          "base_uri": "https://localhost:8080/"
        },
        "id": "KBgZI_vHQeeA",
        "outputId": "a005b73b-4a52-4596-da82-ac22536e8a2e"
      },
      "source": [
        "# \".Values\" attribute is used to return Series as ndarray depending on its dtype\n",
        "# Check this for more information: https://pandas.pydata.org/docs/reference/api/pandas.Series.values.html#pandas.Series.values\n",
        "my_series.values"
      ],
      "execution_count": 27,
      "outputs": [
        {
          "output_type": "execute_result",
          "data": {
            "text/plain": [
              "array(['NVDA', 'MSFT', 'FB', 'FB', 'BA'], dtype=object)"
            ]
          },
          "metadata": {},
          "execution_count": 27
        }
      ]
    },
    {
      "cell_type": "code",
      "metadata": {
        "colab": {
          "base_uri": "https://localhost:8080/"
        },
        "id": "YDunyBEQRtoJ",
        "outputId": "b871c285-8973-4076-9c77-61898c193f42"
      },
      "source": [
        "# index is used to return the index (axis labels) of the Series\n"
      ],
      "execution_count": null,
      "outputs": [
        {
          "output_type": "execute_result",
          "data": {
            "text/plain": [
              "RangeIndex(start=0, stop=5, step=1)"
            ]
          },
          "metadata": {
            "tags": []
          },
          "execution_count": 19
        }
      ]
    },
    {
      "cell_type": "code",
      "metadata": {
        "colab": {
          "base_uri": "https://localhost:8080/"
        },
        "id": "7bgfGfQaSrqw",
        "outputId": "1500e3b0-a9da-4d61-cbe2-fdf8fe296a1e"
      },
      "source": [
        "# dtype is used to return the datatype of the Series ('O' stands for 'object' datatype)\n"
      ],
      "execution_count": null,
      "outputs": [
        {
          "output_type": "execute_result",
          "data": {
            "text/plain": [
              "dtype('O')"
            ]
          },
          "metadata": {
            "tags": []
          },
          "execution_count": 20
        }
      ]
    },
    {
      "cell_type": "code",
      "metadata": {
        "colab": {
          "base_uri": "https://localhost:8080/"
        },
        "id": "XeQtP9v2dxzu",
        "outputId": "6689f7de-159f-48d3-9abf-bba1c6f6b198"
      },
      "source": [
        "# Check if all elements are unique or not\n"
      ],
      "execution_count": null,
      "outputs": [
        {
          "output_type": "execute_result",
          "data": {
            "text/plain": [
              "True"
            ]
          },
          "metadata": {
            "tags": []
          },
          "execution_count": 21
        }
      ]
    },
    {
      "cell_type": "code",
      "metadata": {
        "colab": {
          "base_uri": "https://localhost:8080/"
        },
        "id": "8VWnKVh0d7Kw",
        "outputId": "dca8b133-a9c1-432d-ed9d-9f9056224e62"
      },
      "source": [
        "# Check the shape of the Series\n",
        "# note that a Series is one dimensional\n"
      ],
      "execution_count": null,
      "outputs": [
        {
          "output_type": "execute_result",
          "data": {
            "text/plain": [
              "(5,)"
            ]
          },
          "metadata": {
            "tags": []
          },
          "execution_count": 22
        }
      ]
    },
    {
      "cell_type": "markdown",
      "metadata": {
        "id": "gPL7KbA3XGr1"
      },
      "source": [
        "**MINI CHALLENGE #4:** \n",
        "- **What is the size of the Pandas Series? (External Research for the proper attribute is Required)**"
      ]
    },
    {
      "cell_type": "code",
      "metadata": {
        "id": "SyfddtryXbmX"
      },
      "source": [
        ""
      ],
      "execution_count": null,
      "outputs": []
    },
    {
      "cell_type": "markdown",
      "metadata": {
        "id": "Qc7sVau-UtYt"
      },
      "source": [
        "# 5. PANDAS METHODS"
      ]
    },
    {
      "cell_type": "code",
      "metadata": {
        "colab": {
          "base_uri": "https://localhost:8080/"
        },
        "id": "5gwWM4VvUxI2",
        "outputId": "7cb2d91b-0317-4708-9140-053a2ac721c2"
      },
      "source": [
        "# Methods have parentheses and they actually alter/change the Pandas Series\n",
        "# Methods: use parantheses \"()\" and might include arguments. Ex: my_series.tail(), my_series.head(), my_series.drop_duplicates()\n",
        "\n",
        "# Let's define another Pandas Series that contains numeric values (stock prices) instead of text data\n",
        "# Note that we have int64 datatype which means it contains integer values stored in 64 bits in memory\n"
      ],
      "execution_count": null,
      "outputs": [
        {
          "output_type": "execute_result",
          "data": {
            "text/plain": [
              "0     100\n",
              "1     200\n",
              "2     500\n",
              "3    1000\n",
              "4    5000\n",
              "dtype: int64"
            ]
          },
          "metadata": {
            "tags": []
          },
          "execution_count": 23
        }
      ]
    },
    {
      "cell_type": "code",
      "metadata": {
        "colab": {
          "base_uri": "https://localhost:8080/"
        },
        "id": "ImwFgVASUxLa",
        "outputId": "9f7b7f3b-b8fb-4ebf-e224-fa7c43197d3f"
      },
      "source": [
        "# Let's obtain the sum of all elements in the Pandas Series\n"
      ],
      "execution_count": null,
      "outputs": [
        {
          "output_type": "execute_result",
          "data": {
            "text/plain": [
              "6800"
            ]
          },
          "metadata": {
            "tags": []
          },
          "execution_count": 24
        }
      ]
    },
    {
      "cell_type": "code",
      "metadata": {
        "colab": {
          "base_uri": "https://localhost:8080/"
        },
        "id": "OLa69YwxUxOa",
        "outputId": "158234c1-4535-45b8-ae26-677f57238f08"
      },
      "source": [
        "# Let's obtain the multiplication of all elements in the Pandas Series\n"
      ],
      "execution_count": null,
      "outputs": [
        {
          "output_type": "execute_result",
          "data": {
            "text/plain": [
              "50000000000000"
            ]
          },
          "metadata": {
            "tags": []
          },
          "execution_count": 25
        }
      ]
    },
    {
      "cell_type": "code",
      "metadata": {
        "colab": {
          "base_uri": "https://localhost:8080/"
        },
        "id": "xVMJtbtkUxQ-",
        "outputId": "650e2e87-2838-460a-98ae-09d1eb01cdcb"
      },
      "source": [
        "# Let's obtain the average\n"
      ],
      "execution_count": null,
      "outputs": [
        {
          "output_type": "execute_result",
          "data": {
            "text/plain": [
              "1360.0"
            ]
          },
          "metadata": {
            "tags": []
          },
          "execution_count": 26
        }
      ]
    },
    {
      "cell_type": "code",
      "metadata": {
        "colab": {
          "base_uri": "https://localhost:8080/"
        },
        "id": "FgqSFr98YTUw",
        "outputId": "afaf3e7b-b5c1-4d1c-b99d-dd1bc9af90e3"
      },
      "source": [
        "# Let's show the first couple of elements in the Pandas Series\n"
      ],
      "execution_count": null,
      "outputs": [
        {
          "output_type": "execute_result",
          "data": {
            "text/plain": [
              "0    100\n",
              "1    200\n",
              "dtype: int64"
            ]
          },
          "metadata": {
            "tags": []
          },
          "execution_count": 27
        }
      ]
    },
    {
      "cell_type": "code",
      "metadata": {
        "colab": {
          "base_uri": "https://localhost:8080/"
        },
        "id": "GFoxw41LZrBs",
        "outputId": "3aefbee8-0c98-44f4-a0b1-fd3b8a08899e"
      },
      "source": [
        "# Note that head creates a new dataframe \n"
      ],
      "execution_count": null,
      "outputs": [
        {
          "output_type": "execute_result",
          "data": {
            "text/plain": [
              "0    100\n",
              "1    200\n",
              "2    500\n",
              "dtype: int64"
            ]
          },
          "metadata": {
            "tags": []
          },
          "execution_count": 28
        }
      ]
    },
    {
      "cell_type": "markdown",
      "metadata": {
        "id": "DHknLT4PTrjn"
      },
      "source": [
        "**MINI CHALLENGE #5:** \n",
        "- **Show the last 2 rows in the Pandas Series (External Research is Required)** \n",
        "- **How many bytes does this Pandas Series consume in memory? (External Research is Required)**"
      ]
    },
    {
      "cell_type": "code",
      "metadata": {
        "colab": {
          "base_uri": "https://localhost:8080/"
        },
        "id": "UUiOynSPSshX",
        "outputId": "a3eb0c0b-1456-40aa-8fa6-2303e8396fad"
      },
      "source": [
        ""
      ],
      "execution_count": null,
      "outputs": [
        {
          "output_type": "execute_result",
          "data": {
            "text/plain": [
              "240"
            ]
          },
          "metadata": {
            "tags": []
          },
          "execution_count": 29
        }
      ]
    },
    {
      "cell_type": "markdown",
      "metadata": {
        "id": "vzu3jPDbasz5"
      },
      "source": [
        "# 6. IMPORT CSV DATA (1-D) USING PANDAS"
      ]
    },
    {
      "cell_type": "code",
      "metadata": {
        "id": "zLiVpmH2asz6",
        "colab": {
          "base_uri": "https://localhost:8080/",
          "height": 404
        },
        "outputId": "165b683c-727d-4eee-aab4-be8aee65801c"
      },
      "source": [
        "# Pandas read_csv is used to read a csv file and store data in a DataFrame by default (DataFrames will be covered shortly!)\n",
        "# Use Squeeze to convert it into a Pandas Series (One-dimensional)\n",
        "# Notice that no foramtting exists when a Series is plotted\n"
      ],
      "execution_count": null,
      "outputs": [
        {
          "output_type": "error",
          "ename": "FileNotFoundError",
          "evalue": "ignored",
          "traceback": [
            "\u001b[0;31m---------------------------------------------------------------------------\u001b[0m",
            "\u001b[0;31mFileNotFoundError\u001b[0m                         Traceback (most recent call last)",
            "\u001b[0;32m<ipython-input-30-c6ebcec6b5b5>\u001b[0m in \u001b[0;36m<module>\u001b[0;34m()\u001b[0m\n\u001b[1;32m      2\u001b[0m \u001b[0;31m# Use Squeeze to convert it into a Pandas Series (One-dimensional)\u001b[0m\u001b[0;34m\u001b[0m\u001b[0;34m\u001b[0m\u001b[0;34m\u001b[0m\u001b[0m\n\u001b[1;32m      3\u001b[0m \u001b[0;31m# Notice that no foramtting exists when a Series is plotted\u001b[0m\u001b[0;34m\u001b[0m\u001b[0;34m\u001b[0m\u001b[0;34m\u001b[0m\u001b[0m\n\u001b[0;32m----> 4\u001b[0;31m \u001b[0msp500\u001b[0m \u001b[0;34m=\u001b[0m \u001b[0mpd\u001b[0m\u001b[0;34m.\u001b[0m\u001b[0mread_csv\u001b[0m\u001b[0;34m(\u001b[0m\u001b[0;34m'S&P500_Prices.csv'\u001b[0m\u001b[0;34m,\u001b[0m \u001b[0msqueeze\u001b[0m \u001b[0;34m=\u001b[0m \u001b[0;32mTrue\u001b[0m\u001b[0;34m)\u001b[0m\u001b[0;34m\u001b[0m\u001b[0;34m\u001b[0m\u001b[0m\n\u001b[0m",
            "\u001b[0;32m/usr/local/lib/python3.7/dist-packages/pandas/io/parsers.py\u001b[0m in \u001b[0;36mread_csv\u001b[0;34m(filepath_or_buffer, sep, delimiter, header, names, index_col, usecols, squeeze, prefix, mangle_dupe_cols, dtype, engine, converters, true_values, false_values, skipinitialspace, skiprows, skipfooter, nrows, na_values, keep_default_na, na_filter, verbose, skip_blank_lines, parse_dates, infer_datetime_format, keep_date_col, date_parser, dayfirst, cache_dates, iterator, chunksize, compression, thousands, decimal, lineterminator, quotechar, quoting, doublequote, escapechar, comment, encoding, dialect, error_bad_lines, warn_bad_lines, delim_whitespace, low_memory, memory_map, float_precision)\u001b[0m\n\u001b[1;32m    686\u001b[0m     )\n\u001b[1;32m    687\u001b[0m \u001b[0;34m\u001b[0m\u001b[0m\n\u001b[0;32m--> 688\u001b[0;31m     \u001b[0;32mreturn\u001b[0m \u001b[0m_read\u001b[0m\u001b[0;34m(\u001b[0m\u001b[0mfilepath_or_buffer\u001b[0m\u001b[0;34m,\u001b[0m \u001b[0mkwds\u001b[0m\u001b[0;34m)\u001b[0m\u001b[0;34m\u001b[0m\u001b[0;34m\u001b[0m\u001b[0m\n\u001b[0m\u001b[1;32m    689\u001b[0m \u001b[0;34m\u001b[0m\u001b[0m\n\u001b[1;32m    690\u001b[0m \u001b[0;34m\u001b[0m\u001b[0m\n",
            "\u001b[0;32m/usr/local/lib/python3.7/dist-packages/pandas/io/parsers.py\u001b[0m in \u001b[0;36m_read\u001b[0;34m(filepath_or_buffer, kwds)\u001b[0m\n\u001b[1;32m    452\u001b[0m \u001b[0;34m\u001b[0m\u001b[0m\n\u001b[1;32m    453\u001b[0m     \u001b[0;31m# Create the parser.\u001b[0m\u001b[0;34m\u001b[0m\u001b[0;34m\u001b[0m\u001b[0;34m\u001b[0m\u001b[0m\n\u001b[0;32m--> 454\u001b[0;31m     \u001b[0mparser\u001b[0m \u001b[0;34m=\u001b[0m \u001b[0mTextFileReader\u001b[0m\u001b[0;34m(\u001b[0m\u001b[0mfp_or_buf\u001b[0m\u001b[0;34m,\u001b[0m \u001b[0;34m**\u001b[0m\u001b[0mkwds\u001b[0m\u001b[0;34m)\u001b[0m\u001b[0;34m\u001b[0m\u001b[0;34m\u001b[0m\u001b[0m\n\u001b[0m\u001b[1;32m    455\u001b[0m \u001b[0;34m\u001b[0m\u001b[0m\n\u001b[1;32m    456\u001b[0m     \u001b[0;32mif\u001b[0m \u001b[0mchunksize\u001b[0m \u001b[0;32mor\u001b[0m \u001b[0miterator\u001b[0m\u001b[0;34m:\u001b[0m\u001b[0;34m\u001b[0m\u001b[0;34m\u001b[0m\u001b[0m\n",
            "\u001b[0;32m/usr/local/lib/python3.7/dist-packages/pandas/io/parsers.py\u001b[0m in \u001b[0;36m__init__\u001b[0;34m(self, f, engine, **kwds)\u001b[0m\n\u001b[1;32m    946\u001b[0m             \u001b[0mself\u001b[0m\u001b[0;34m.\u001b[0m\u001b[0moptions\u001b[0m\u001b[0;34m[\u001b[0m\u001b[0;34m\"has_index_names\"\u001b[0m\u001b[0;34m]\u001b[0m \u001b[0;34m=\u001b[0m \u001b[0mkwds\u001b[0m\u001b[0;34m[\u001b[0m\u001b[0;34m\"has_index_names\"\u001b[0m\u001b[0;34m]\u001b[0m\u001b[0;34m\u001b[0m\u001b[0;34m\u001b[0m\u001b[0m\n\u001b[1;32m    947\u001b[0m \u001b[0;34m\u001b[0m\u001b[0m\n\u001b[0;32m--> 948\u001b[0;31m         \u001b[0mself\u001b[0m\u001b[0;34m.\u001b[0m\u001b[0m_make_engine\u001b[0m\u001b[0;34m(\u001b[0m\u001b[0mself\u001b[0m\u001b[0;34m.\u001b[0m\u001b[0mengine\u001b[0m\u001b[0;34m)\u001b[0m\u001b[0;34m\u001b[0m\u001b[0;34m\u001b[0m\u001b[0m\n\u001b[0m\u001b[1;32m    949\u001b[0m \u001b[0;34m\u001b[0m\u001b[0m\n\u001b[1;32m    950\u001b[0m     \u001b[0;32mdef\u001b[0m \u001b[0mclose\u001b[0m\u001b[0;34m(\u001b[0m\u001b[0mself\u001b[0m\u001b[0;34m)\u001b[0m\u001b[0;34m:\u001b[0m\u001b[0;34m\u001b[0m\u001b[0;34m\u001b[0m\u001b[0m\n",
            "\u001b[0;32m/usr/local/lib/python3.7/dist-packages/pandas/io/parsers.py\u001b[0m in \u001b[0;36m_make_engine\u001b[0;34m(self, engine)\u001b[0m\n\u001b[1;32m   1178\u001b[0m     \u001b[0;32mdef\u001b[0m \u001b[0m_make_engine\u001b[0m\u001b[0;34m(\u001b[0m\u001b[0mself\u001b[0m\u001b[0;34m,\u001b[0m \u001b[0mengine\u001b[0m\u001b[0;34m=\u001b[0m\u001b[0;34m\"c\"\u001b[0m\u001b[0;34m)\u001b[0m\u001b[0;34m:\u001b[0m\u001b[0;34m\u001b[0m\u001b[0;34m\u001b[0m\u001b[0m\n\u001b[1;32m   1179\u001b[0m         \u001b[0;32mif\u001b[0m \u001b[0mengine\u001b[0m \u001b[0;34m==\u001b[0m \u001b[0;34m\"c\"\u001b[0m\u001b[0;34m:\u001b[0m\u001b[0;34m\u001b[0m\u001b[0;34m\u001b[0m\u001b[0m\n\u001b[0;32m-> 1180\u001b[0;31m             \u001b[0mself\u001b[0m\u001b[0;34m.\u001b[0m\u001b[0m_engine\u001b[0m \u001b[0;34m=\u001b[0m \u001b[0mCParserWrapper\u001b[0m\u001b[0;34m(\u001b[0m\u001b[0mself\u001b[0m\u001b[0;34m.\u001b[0m\u001b[0mf\u001b[0m\u001b[0;34m,\u001b[0m \u001b[0;34m**\u001b[0m\u001b[0mself\u001b[0m\u001b[0;34m.\u001b[0m\u001b[0moptions\u001b[0m\u001b[0;34m)\u001b[0m\u001b[0;34m\u001b[0m\u001b[0;34m\u001b[0m\u001b[0m\n\u001b[0m\u001b[1;32m   1181\u001b[0m         \u001b[0;32melse\u001b[0m\u001b[0;34m:\u001b[0m\u001b[0;34m\u001b[0m\u001b[0;34m\u001b[0m\u001b[0m\n\u001b[1;32m   1182\u001b[0m             \u001b[0;32mif\u001b[0m \u001b[0mengine\u001b[0m \u001b[0;34m==\u001b[0m \u001b[0;34m\"python\"\u001b[0m\u001b[0;34m:\u001b[0m\u001b[0;34m\u001b[0m\u001b[0;34m\u001b[0m\u001b[0m\n",
            "\u001b[0;32m/usr/local/lib/python3.7/dist-packages/pandas/io/parsers.py\u001b[0m in \u001b[0;36m__init__\u001b[0;34m(self, src, **kwds)\u001b[0m\n\u001b[1;32m   2008\u001b[0m         \u001b[0mkwds\u001b[0m\u001b[0;34m[\u001b[0m\u001b[0;34m\"usecols\"\u001b[0m\u001b[0;34m]\u001b[0m \u001b[0;34m=\u001b[0m \u001b[0mself\u001b[0m\u001b[0;34m.\u001b[0m\u001b[0musecols\u001b[0m\u001b[0;34m\u001b[0m\u001b[0;34m\u001b[0m\u001b[0m\n\u001b[1;32m   2009\u001b[0m \u001b[0;34m\u001b[0m\u001b[0m\n\u001b[0;32m-> 2010\u001b[0;31m         \u001b[0mself\u001b[0m\u001b[0;34m.\u001b[0m\u001b[0m_reader\u001b[0m \u001b[0;34m=\u001b[0m \u001b[0mparsers\u001b[0m\u001b[0;34m.\u001b[0m\u001b[0mTextReader\u001b[0m\u001b[0;34m(\u001b[0m\u001b[0msrc\u001b[0m\u001b[0;34m,\u001b[0m \u001b[0;34m**\u001b[0m\u001b[0mkwds\u001b[0m\u001b[0;34m)\u001b[0m\u001b[0;34m\u001b[0m\u001b[0;34m\u001b[0m\u001b[0m\n\u001b[0m\u001b[1;32m   2011\u001b[0m         \u001b[0mself\u001b[0m\u001b[0;34m.\u001b[0m\u001b[0munnamed_cols\u001b[0m \u001b[0;34m=\u001b[0m \u001b[0mself\u001b[0m\u001b[0;34m.\u001b[0m\u001b[0m_reader\u001b[0m\u001b[0;34m.\u001b[0m\u001b[0munnamed_cols\u001b[0m\u001b[0;34m\u001b[0m\u001b[0;34m\u001b[0m\u001b[0m\n\u001b[1;32m   2012\u001b[0m \u001b[0;34m\u001b[0m\u001b[0m\n",
            "\u001b[0;32mpandas/_libs/parsers.pyx\u001b[0m in \u001b[0;36mpandas._libs.parsers.TextReader.__cinit__\u001b[0;34m()\u001b[0m\n",
            "\u001b[0;32mpandas/_libs/parsers.pyx\u001b[0m in \u001b[0;36mpandas._libs.parsers.TextReader._setup_parser_source\u001b[0;34m()\u001b[0m\n",
            "\u001b[0;31mFileNotFoundError\u001b[0m: [Errno 2] No such file or directory: 'S&P500_Prices.csv'"
          ]
        }
      ]
    },
    {
      "cell_type": "code",
      "metadata": {
        "id": "Py1fYuPFasz6"
      },
      "source": [
        ""
      ],
      "execution_count": null,
      "outputs": []
    },
    {
      "cell_type": "markdown",
      "metadata": {
        "id": "CykEEAr9S--X"
      },
      "source": [
        "**MINI CHALLENGE #6:**\n",
        "- **Set Squeeze = False and rerun the cell, what do you notice? Use Type to compare both outputs**"
      ]
    },
    {
      "cell_type": "code",
      "metadata": {
        "id": "DVEio_JnTArn"
      },
      "source": [
        ""
      ],
      "execution_count": null,
      "outputs": []
    },
    {
      "cell_type": "markdown",
      "metadata": {
        "id": "8HBGOWjKaK_i"
      },
      "source": [
        "# 7. PANDAS BUILT-IN FUNCTIONS"
      ]
    },
    {
      "cell_type": "code",
      "metadata": {
        "id": "-Q-1iWEqaP6y"
      },
      "source": [
        "# Pandas works great with pre-existing python functions \n",
        "# You don't have to play with pandas methods and directly leverage Python functions\n",
        "# Check Python built-in functions here: https://docs.python.org/3/library/functions.html\n"
      ],
      "execution_count": null,
      "outputs": []
    },
    {
      "cell_type": "code",
      "metadata": {
        "id": "g759k2IPdVH-"
      },
      "source": [
        "# Obtain the Data Type of the Pandas Series\n"
      ],
      "execution_count": null,
      "outputs": []
    },
    {
      "cell_type": "code",
      "metadata": {
        "id": "NbKysqrSaQ32"
      },
      "source": [
        "# Obtain the length of the Pandas Series\n"
      ],
      "execution_count": null,
      "outputs": []
    },
    {
      "cell_type": "code",
      "metadata": {
        "id": "FeeA8actaQ6P"
      },
      "source": [
        "# Obtain the maximum value of the Pandas Series\n"
      ],
      "execution_count": null,
      "outputs": []
    },
    {
      "cell_type": "code",
      "metadata": {
        "id": "fyhw96-JaQ8a"
      },
      "source": [
        "# Obtain the minimum value of the Pandas Series\n"
      ],
      "execution_count": null,
      "outputs": []
    },
    {
      "cell_type": "markdown",
      "metadata": {
        "id": "NCnRK6oMVCtg"
      },
      "source": [
        "**MINI CHALLENGE #7:**\n",
        "- **Given the following Pandas Series, convert all positive values to negative using python built-in functions**\n",
        "- **Obtain only unique values (ie: Remove duplicates) using python built-in functions**\n",
        "- **my_series = pd.Series(data = [-10, 100, -30, 50, 100])**\n"
      ]
    },
    {
      "cell_type": "code",
      "metadata": {
        "id": "DG-Tjp6PVEpW"
      },
      "source": [
        ""
      ],
      "execution_count": null,
      "outputs": []
    },
    {
      "cell_type": "markdown",
      "metadata": {
        "id": "LKDuJ94RvB85"
      },
      "source": [
        "# 8. SORTING PANDAS SERIES"
      ]
    },
    {
      "cell_type": "code",
      "metadata": {
        "id": "f-aRTmn9u7DA"
      },
      "source": [
        "# Let's import CSV data as follows:\n"
      ],
      "execution_count": null,
      "outputs": []
    },
    {
      "cell_type": "code",
      "metadata": {
        "id": "DaglhPNevFYC"
      },
      "source": [
        "# You can sort the values in the dataframe as follows\n"
      ],
      "execution_count": null,
      "outputs": []
    },
    {
      "cell_type": "code",
      "metadata": {
        "id": "AjzLtDlevFaW"
      },
      "source": [
        "# Let's view Pandas Series again after sorting, Note that nothing changed in memory! you have to make sure that inplace is set to True\n"
      ],
      "execution_count": null,
      "outputs": []
    },
    {
      "cell_type": "code",
      "metadata": {
        "id": "Pgt25eXmvFce"
      },
      "source": [
        "# Set inplace = True to ensure that change has taken place in memory \n"
      ],
      "execution_count": null,
      "outputs": []
    },
    {
      "cell_type": "code",
      "metadata": {
        "id": "jEw2Gw_hu7Fo"
      },
      "source": [
        "# Note that now the change (ordering) took place \n"
      ],
      "execution_count": null,
      "outputs": []
    },
    {
      "cell_type": "code",
      "metadata": {
        "id": "6wi0QnU5iGk8"
      },
      "source": [
        "# Notice that the indexes are now changed \n",
        "# You can also sort by index (revert back to the original Pandas Series) as follows: \n"
      ],
      "execution_count": null,
      "outputs": []
    },
    {
      "cell_type": "markdown",
      "metadata": {
        "id": "7bV_Yaq46ZTg"
      },
      "source": [
        "**MINI CHALLENGE #8:**\n",
        "- **Sort the S&P500 values in a decending order instead. Make sure to update values in-memory.**"
      ]
    },
    {
      "cell_type": "code",
      "metadata": {
        "id": "zw0acoYEkDJB"
      },
      "source": [
        ""
      ],
      "execution_count": null,
      "outputs": []
    },
    {
      "cell_type": "markdown",
      "metadata": {
        "id": "1QT7bBFCkDhh"
      },
      "source": [
        "# 9. PERFORM MATH OPERATIONS ON PANDAS SERIES"
      ]
    },
    {
      "cell_type": "code",
      "metadata": {
        "id": "UXFGCV4SkI4O"
      },
      "source": [
        "# Let's import CSV data as follows:\n"
      ],
      "execution_count": null,
      "outputs": []
    },
    {
      "cell_type": "code",
      "metadata": {
        "id": "Qpo7M9yYkJPQ"
      },
      "source": [
        "# Apply Sum Method on Pandas Series\n"
      ],
      "execution_count": null,
      "outputs": []
    },
    {
      "cell_type": "code",
      "metadata": {
        "id": "FTSaQpjokJSM"
      },
      "source": [
        "# Apply count Method on Pandas Series\n"
      ],
      "execution_count": null,
      "outputs": []
    },
    {
      "cell_type": "code",
      "metadata": {
        "id": "I8vVnB_5kj7C"
      },
      "source": [
        "# Obtain the maximum value\n"
      ],
      "execution_count": null,
      "outputs": []
    },
    {
      "cell_type": "code",
      "metadata": {
        "id": "u3-XBu-vko2y"
      },
      "source": [
        "# Obtain the minimum value\n"
      ],
      "execution_count": null,
      "outputs": []
    },
    {
      "cell_type": "code",
      "metadata": {
        "id": "jfaK3BsckvAK"
      },
      "source": [
        "# My favourite: Describe! \n",
        "# Describe is used to obtain all statistical information in one place \n"
      ],
      "execution_count": null,
      "outputs": []
    },
    {
      "cell_type": "markdown",
      "metadata": {
        "id": "wfpnZiwxk1cb"
      },
      "source": [
        "**MINI CHALLENGE #9:**\n",
        "- **Obtain the average price of the S&P500 using two different methods**"
      ]
    },
    {
      "cell_type": "code",
      "metadata": {
        "id": "MFL9i8NWlIH5"
      },
      "source": [
        ""
      ],
      "execution_count": null,
      "outputs": []
    },
    {
      "cell_type": "markdown",
      "metadata": {
        "id": "Yi8uUb_eiqxo"
      },
      "source": [
        "# 10. CHECK IF A GIVEN ELEMENT EXISTS IN A PANDAS SERIES"
      ]
    },
    {
      "cell_type": "code",
      "metadata": {
        "id": "nEQ94a2RiuiR"
      },
      "source": [
        "# Let's import CSV data as follows:\n"
      ],
      "execution_count": null,
      "outputs": []
    },
    {
      "cell_type": "code",
      "metadata": {
        "id": "x0T4h0CWi-p7"
      },
      "source": [
        "# Check if a given number exists in a Pandas Series values\n",
        "# Returns a boolean \"True\" or \"False\"\n"
      ],
      "execution_count": null,
      "outputs": []
    },
    {
      "cell_type": "code",
      "metadata": {
        "id": "xa7GXwbhi-sh"
      },
      "source": [
        "# Check if a given number exists in a Pandas Series index\n"
      ],
      "execution_count": null,
      "outputs": []
    },
    {
      "cell_type": "code",
      "metadata": {
        "id": "GyN5iG1ki-vC"
      },
      "source": [
        "# Note that by default 'in' will search in Pandas index and not values\n"
      ],
      "execution_count": null,
      "outputs": []
    },
    {
      "cell_type": "markdown",
      "metadata": {
        "id": "DjNoVv5vb9ij"
      },
      "source": [
        "**MINI CHALLENGE #10:**\n",
        "- **Check if the stock price 3349 exists in the sp500 Pandas Series or not**\n",
        "- **Round stock prices to the nearest integer and check again**"
      ]
    },
    {
      "cell_type": "code",
      "metadata": {
        "id": "3BYcu1gpb_Vo"
      },
      "source": [
        ""
      ],
      "execution_count": null,
      "outputs": []
    },
    {
      "cell_type": "markdown",
      "metadata": {
        "id": "Vrv6ZboqmGmx"
      },
      "source": [
        "# 11. INDEXING: OBTAIN SPECIFIC ELEMENTS FROM PANDAS SERIES"
      ]
    },
    {
      "cell_type": "code",
      "metadata": {
        "id": "XlMcpqkbjMI1"
      },
      "source": [
        "# Let's import CSV data as follows:\n"
      ],
      "execution_count": null,
      "outputs": []
    },
    {
      "cell_type": "code",
      "metadata": {
        "id": "5O_wKHmmmY2E"
      },
      "source": [
        "# Obtain the first element in a Pandas Series\n",
        "# Note that first element has an index 0\n"
      ],
      "execution_count": null,
      "outputs": []
    },
    {
      "cell_type": "code",
      "metadata": {
        "id": "QV7zW7ecmY4l"
      },
      "source": [
        ""
      ],
      "execution_count": null,
      "outputs": []
    },
    {
      "cell_type": "code",
      "metadata": {
        "id": "7wsOMwrvnHdJ"
      },
      "source": [
        "# Obtain the last element in the Pandas Series\n"
      ],
      "execution_count": null,
      "outputs": []
    },
    {
      "cell_type": "markdown",
      "metadata": {
        "id": "mIsxBKz0cUZz"
      },
      "source": [
        "**MINI CHALLENGE #11:**\n",
        "- **Obtain the fifth element in the Pandas Series**"
      ]
    },
    {
      "cell_type": "code",
      "metadata": {
        "id": "hPzW6L__crcc"
      },
      "source": [
        ""
      ],
      "execution_count": null,
      "outputs": []
    },
    {
      "cell_type": "markdown",
      "metadata": {
        "id": "FqV5utBLnQuk"
      },
      "source": [
        "# 12. SLICING: OBTAIN MULTIPLE ELEMENTS FROM PANDAS SERIES"
      ]
    },
    {
      "cell_type": "code",
      "metadata": {
        "id": "FnZ_HXFcnY5-"
      },
      "source": [
        "# Let's import CSV data as follows:\n"
      ],
      "execution_count": null,
      "outputs": []
    },
    {
      "cell_type": "code",
      "metadata": {
        "id": "QVdRqhsbmY6X"
      },
      "source": [
        "# Slice elements from a Pandas Series\n",
        "# Let's obtain elements starting from index 0 up until and not including index 5 (ie: indexes 0-4)\n"
      ],
      "execution_count": null,
      "outputs": []
    },
    {
      "cell_type": "code",
      "metadata": {
        "id": "YtZ4bhPKmY8S"
      },
      "source": [
        "# obtain all elements starting from index 0 up until and not including index 10\n"
      ],
      "execution_count": null,
      "outputs": []
    },
    {
      "cell_type": "code",
      "metadata": {
        "id": "tShJSc6Bmv6d"
      },
      "source": [
        "# obtain all elements starting from index 5 up until the end of the Pandas Series\n"
      ],
      "execution_count": null,
      "outputs": []
    },
    {
      "cell_type": "markdown",
      "metadata": {
        "id": "BOIQH-R7dSDy"
      },
      "source": [
        "**MINI CHALLENGE #12:**\n",
        "- **Obtain all elements in Pandas Series except for the last 3 elements**"
      ]
    },
    {
      "cell_type": "markdown",
      "metadata": {
        "id": "i1gJS3K7vlxd"
      },
      "source": [
        "# EXCELLENT JOB!"
      ]
    },
    {
      "cell_type": "markdown",
      "metadata": {
        "id": "MF2SdJZ_vn4z"
      },
      "source": [
        "# MINI CHALLENGE SOLUTIONS"
      ]
    },
    {
      "cell_type": "markdown",
      "metadata": {
        "id": "08v_y7IaJrvt"
      },
      "source": [
        "**MINI CHALLENGE #1 SOLUTION:**\n",
        "- **Define a Pandas Series named \"my_series\" that contains your top 3 favourite movies. Confirm the datatype of \"my_series\"**"
      ]
    },
    {
      "cell_type": "code",
      "metadata": {
        "id": "syn8_3JiJrvt"
      },
      "source": [
        "# Let's define a Python list that contains 3 top movies\n",
        "my_list = ['The Godfather','Star Wars','The Wolf of Wall Street'] \n",
        "my_series = pd.Series(data = my_list) \n",
        "my_series"
      ],
      "execution_count": null,
      "outputs": []
    },
    {
      "cell_type": "code",
      "metadata": {
        "id": "12MuwJ5eJrvu"
      },
      "source": [
        "type(my_series)"
      ],
      "execution_count": null,
      "outputs": []
    },
    {
      "cell_type": "markdown",
      "metadata": {
        "id": "1x6d0qzMKg-A"
      },
      "source": [
        "**MINI CHALLENGE #2 SOLUTION:**\n",
        "- **Define a Pandas Series named \"my_series\" that contains your top 3 favourite movies. Instead of using default numeric indexes (similar to mini challenge #1), use the following indexes \"movie #1\", \"Movie #2\", and \"movie #3\"**"
      ]
    },
    {
      "cell_type": "code",
      "metadata": {
        "id": "ddjSNsHBK-ll"
      },
      "source": [
        "# Let's define a Python list that contains 3 movies as follows\n",
        "my_list = ['The Godfather','Star Wars','The Wolf of Wall Street'] \n",
        "\n",
        "# Let's define a python list as shown below. This python list will be used for the Series index:\n",
        "my_labels = ['movie #1', 'movie #2', 'movie #3']\n"
      ],
      "execution_count": null,
      "outputs": []
    },
    {
      "cell_type": "code",
      "metadata": {
        "id": "4iNEgSEtK8kl"
      },
      "source": [
        "# Let's create a one dimensional Pandas \"series\" \n",
        "# Let's use Pandas Constructor Method to create a series from a Python list\n",
        "# Note that this series is formed of data and associated labels \n",
        "my_series = pd.Series(data = my_list, index = my_labels)\n",
        "my_series"
      ],
      "execution_count": null,
      "outputs": []
    },
    {
      "cell_type": "markdown",
      "metadata": {
        "id": "r6btEnxmMy_G"
      },
      "source": [
        "**MINI CHALLENGE #3 SOLUTION:**\n",
        "- **Create a Pandas Series from a dictionary with 3 of your favourite stocks and their corresponding prices** \n"
      ]
    },
    {
      "cell_type": "code",
      "metadata": {
        "id": "PzkBjyLHM7Do"
      },
      "source": [
        "stocks = {'SP500': 3000, \n",
        "          'AAPL': 400,\n",
        "          'TSLA': 2200}\n",
        "print(stocks)"
      ],
      "execution_count": null,
      "outputs": []
    },
    {
      "cell_type": "code",
      "metadata": {
        "id": "QeDCPO9hNAKj"
      },
      "source": [
        "# Let's define a Pandas Series Using the dictionary\n",
        "my_series = pd.Series(stocks)\n",
        "my_series"
      ],
      "execution_count": null,
      "outputs": []
    },
    {
      "cell_type": "markdown",
      "metadata": {
        "id": "lB8OYAVJXRYe"
      },
      "source": [
        "**MINI CHALLENGE #4 SOLUTION:** \n",
        "- **What is the size of the Pandas Series? (External Research is Required)**"
      ]
    },
    {
      "cell_type": "code",
      "metadata": {
        "id": "D5D0wFlmXRYf"
      },
      "source": [
        "# size is used to return the size of the series\n",
        "series_3.size"
      ],
      "execution_count": null,
      "outputs": []
    },
    {
      "cell_type": "markdown",
      "metadata": {
        "id": "5D7QSEf7Y8aa"
      },
      "source": [
        "**MINI CHALLENGE #5 SOLUTION:** \n",
        "- **Show the last 2 rows in the Pandas Series (External Research is Required)** \n",
        "- **How many bytes does this Pandas Series consume in memory? (External Research is Required)**"
      ]
    },
    {
      "cell_type": "code",
      "metadata": {
        "id": "FsSGV7I3Y_ja"
      },
      "source": [
        "my_series.tail(2)"
      ],
      "execution_count": null,
      "outputs": []
    },
    {
      "cell_type": "code",
      "metadata": {
        "id": "s8g0WhX6Y8aa"
      },
      "source": [
        "my_series.memory_usage()"
      ],
      "execution_count": null,
      "outputs": []
    },
    {
      "cell_type": "code",
      "metadata": {
        "id": "k27pa4L1fv7-"
      },
      "source": [
        ""
      ],
      "execution_count": null,
      "outputs": []
    },
    {
      "cell_type": "markdown",
      "metadata": {
        "id": "Thrv0augRv88"
      },
      "source": [
        "**MINI CHALLENGE #6 SOLUTION:**\n",
        "- **Set Squeeze = False and rerun the cell, what do you notice? Use Type to compare both outputs**"
      ]
    },
    {
      "cell_type": "code",
      "metadata": {
        "id": "Ebt-VMfccjR6"
      },
      "source": [
        "sp500 = pd.read_csv('S&P500_Prices.csv', squeeze = False)\n",
        "# Note that when you set Squeeze = False, the data is stored in a DataFrame by default. \n",
        "# DataFrame is simply used to store multi dimensional data as compares to Pandas Series that only holds 1-D dataset \n",
        "# Note that DataFrames has proper formatting when you attempt to view them as shown below \n",
        "# Note that Pandas Series has no formatting\n"
      ],
      "execution_count": null,
      "outputs": []
    },
    {
      "cell_type": "code",
      "metadata": {
        "id": "WsTIJJlRSFkJ"
      },
      "source": [
        "sp500"
      ],
      "execution_count": null,
      "outputs": []
    },
    {
      "cell_type": "code",
      "metadata": {
        "id": "NJXOLvacSjh9"
      },
      "source": [
        "type(sp500)"
      ],
      "execution_count": null,
      "outputs": []
    },
    {
      "cell_type": "code",
      "metadata": {
        "id": "VqShdXDGSjnD"
      },
      "source": [
        "sp500 = pd.read_csv('S&P500_Prices.csv', squeeze = True)\n",
        "type(sp500)"
      ],
      "execution_count": null,
      "outputs": []
    },
    {
      "cell_type": "markdown",
      "metadata": {
        "id": "c9aEM3KTT619"
      },
      "source": [
        "**MINI CHALLENGE #7 SOLUTION:**\n",
        "- **Given the following Pandas Series, convert all positive values to negative using python built-in functions**\n",
        "- **Obtain only unique values (ie: Remove duplicates) using python built-in functions**\n",
        "- **my_series = pd.Series(data = [-10, 100, -30, 50, 100])**\n"
      ]
    },
    {
      "cell_type": "code",
      "metadata": {
        "id": "VP5bBkaOUIpo"
      },
      "source": [
        "my_series = pd.Series(data = [-10, 100, -30, 50, 100])\n",
        "my_series"
      ],
      "execution_count": null,
      "outputs": []
    },
    {
      "cell_type": "code",
      "metadata": {
        "id": "NFKY2ZNRaQ-s"
      },
      "source": [
        "abs(my_series)"
      ],
      "execution_count": null,
      "outputs": []
    },
    {
      "cell_type": "code",
      "metadata": {
        "id": "xqWCYc0n6V-d"
      },
      "source": [
        "set(my_series)"
      ],
      "execution_count": null,
      "outputs": []
    },
    {
      "cell_type": "markdown",
      "metadata": {
        "id": "5hAgN4ITfwPZ"
      },
      "source": [
        "**MINI CHALLENGE #8 SOLUTION:**\n",
        "- **Sort the S&P500 values in a decending order instead. Make sure to update values in-memory.**"
      ]
    },
    {
      "cell_type": "code",
      "metadata": {
        "id": "XbMv5fujfwPa"
      },
      "source": [
        "sp500.sort_values(ascending = False, inplace = True) \n",
        "sp500"
      ],
      "execution_count": null,
      "outputs": []
    },
    {
      "cell_type": "code",
      "metadata": {
        "id": "dFlqKzfQlDS-"
      },
      "source": [
        ""
      ],
      "execution_count": null,
      "outputs": []
    },
    {
      "cell_type": "markdown",
      "metadata": {
        "id": "BJJRSL5jlDlV"
      },
      "source": [
        "**MINI CHALLENGE #9 SOLUTION:**\n",
        "- **Obtain the average price using two different methods**"
      ]
    },
    {
      "cell_type": "code",
      "metadata": {
        "id": "PPjFgt5FlDlW"
      },
      "source": [
        "# Obtain the average - Solution #1\n",
        "sp500.sum()/sp500.count()"
      ],
      "execution_count": null,
      "outputs": []
    },
    {
      "cell_type": "code",
      "metadata": {
        "id": "P10NuBnslDlW"
      },
      "source": [
        "# Obtain the average - Solution #s\n",
        "sp500.mean()"
      ],
      "execution_count": null,
      "outputs": []
    },
    {
      "cell_type": "code",
      "metadata": {
        "id": "TZkayhzAby14"
      },
      "source": [
        ""
      ],
      "execution_count": null,
      "outputs": []
    },
    {
      "cell_type": "markdown",
      "metadata": {
        "id": "VUaaCo_5a8h0"
      },
      "source": [
        "**MINI CHALLENGE #10 SOLUTION:**\n",
        "- **Check if the stock price 3349 exists in the sp500 Pandas Series or not**\n",
        "- **Round stock prices to the nearest integer and check again**"
      ]
    },
    {
      "cell_type": "code",
      "metadata": {
        "id": "650WOhWVjMGx"
      },
      "source": [
        "3349 in sp500.values"
      ],
      "execution_count": null,
      "outputs": []
    },
    {
      "cell_type": "code",
      "metadata": {
        "id": "8T7B5PhsbVB0"
      },
      "source": [
        "sp500 = round(sp500)\n",
        "sp500"
      ],
      "execution_count": null,
      "outputs": []
    },
    {
      "cell_type": "code",
      "metadata": {
        "id": "Ads3YyW_bhVh"
      },
      "source": [
        "3349 in sp500.values"
      ],
      "execution_count": null,
      "outputs": []
    },
    {
      "cell_type": "markdown",
      "metadata": {
        "id": "vAJPyYxMcmoo"
      },
      "source": [
        "**MINI CHALLENGE #11 SOLUTION:**\n",
        "- **Obtain the fifth element in the Pandas Series**"
      ]
    },
    {
      "cell_type": "code",
      "metadata": {
        "id": "4RDUq1phcmop"
      },
      "source": [
        "# Note that the fifth element has an index = 4\n",
        "sp500[4]"
      ],
      "execution_count": null,
      "outputs": []
    },
    {
      "cell_type": "markdown",
      "metadata": {
        "id": "d3mdLBq2dicZ"
      },
      "source": [
        "**MINI CHALLENGE #12 SOLUTION:**\n",
        "- **Obtain all elements in Pandas Series except for the last 3 elements**"
      ]
    },
    {
      "cell_type": "code",
      "metadata": {
        "id": "0CaYXe_udFyA"
      },
      "source": [
        "sp500[:-3]"
      ],
      "execution_count": null,
      "outputs": []
    }
  ]
}